{
 "cells": [
  {
   "cell_type": "code",
   "execution_count": 14,
   "id": "8db7ef67",
   "metadata": {},
   "outputs": [],
   "source": [
    "import pandas as pd\n",
    "import numpy as np\n",
    "import matplotlib.pyplot as plt\n",
    "import binascii\n",
    "import joblib\n",
    "import os\n",
    "\n",
    "from sklearn.feature_extraction.text import CountVectorizer\n",
    "from sklearn.feature_extraction.text import TfidfTransformer\n",
    "from sklearn.pipeline import make_pipeline\n",
    "from sklearn.naive_bayes import CategoricalNB\n",
    "from sklearn.svm import LinearSVC, SVC\n",
    "from sklearn.model_selection import train_test_split\n",
    "from sklearn.decomposition import PCA\n",
    "from sklearn.linear_model import SGDClassifier"
   ]
  },
  {
   "cell_type": "code",
   "execution_count": 15,
   "id": "0ee4418e",
   "metadata": {},
   "outputs": [],
   "source": [
    "# load csv of binary data / ASI labels\n",
    "# smaller data set = `bin-data.csv`     (27 MB)\n",
    "# larger data set  = `binarydata.csv`   (860 MB)\n",
    "\n",
    "file = os.path.join(os.getcwd(), \"bin-data.csv\")\n",
    "df = pd.read_csv(file, index_col=0)\n",
    "\n",
    "# transform binary strings to binary data, then make it hex code\n",
    "\n",
    "mapped = list(map(lambda x: x[x.find('b\\'') + 2:].encode(), df['data']))\n",
    "labels = list(df['label'])\n",
    "\n",
    "hexdata = [binascii.hexlify(e) for e in mapped]\n",
    "\n",
    "X_train, X_test, y_train, y_test = train_test_split(hexdata, labels, test_size=0.2, random_state=42069)"
   ]
  },
  {
   "cell_type": "code",
   "execution_count": 16,
   "id": "1cd8ee08",
   "metadata": {},
   "outputs": [],
   "source": [
    "# initialize hex data vectorization pipeline\n",
    "\n",
    "vec_opts = {\n",
    "    \"ngram_range\": (1, 4),  # we consider 1-, 2-, 3-, and 4-grams\n",
    "    \"analyzer\": \"word\",\n",
    "    \"token_pattern\": \"..\",  # consecutive characters are words\n",
    "    \"min_df\": 0.005,        # terms must be in at least 0.5% of documents\n",
    "    \"max_df\": 0.95          # terms can not exist in more than 95% of documents\n",
    "}\n",
    "\n",
    "idf_opts = {\n",
    "    \"use_idf\": True,\n",
    "    \"sublinear_tf\": True    # log transform reduced importance of frequently used terms\n",
    "}\n",
    "\n",
    "vectorizer = make_pipeline(\n",
    "    CountVectorizer(**vec_opts),\n",
    "    TfidfTransformer(**idf_opts)\n",
    ")"
   ]
  },
  {
   "cell_type": "code",
   "execution_count": 17,
   "id": "a91214d4",
   "metadata": {},
   "outputs": [],
   "source": [
    "vectorizer.fit(X_train)\n",
    "\n",
    "joblib.dump(vectorizer, './models/vectorizer')  # to persist data transformation pipeline\n",
    "\n",
    "# create vectorized train and test data\n",
    "XT_train = vectorizer.transform(X_train)\n",
    "XT_test = vectorizer.transform(X_test)"
   ]
  },
  {
   "cell_type": "markdown",
   "id": "38120665",
   "metadata": {},
   "source": [
    "## PCA Analysis"
   ]
  },
  {
   "cell_type": "markdown",
   "id": "ad7c6956",
   "metadata": {},
   "source": [
    "The PCA plot below demonstrates that the hex data is noticeably clustered after being vectorized"
   ]
  },
  {
   "cell_type": "code",
   "execution_count": 22,
   "id": "35cc2d05",
   "metadata": {},
   "outputs": [
    {
     "name": "stderr",
     "output_type": "stream",
     "text": [
      "/home/jacob/projects/binary-isa-classifier/env/lib/python3.10/site-packages/sklearn/utils/validation.py:593: FutureWarning: np.matrix usage is deprecated in 1.0 and will raise a TypeError in 1.2. Please convert to a numpy array with np.asarray. For more information see: https://numpy.org/doc/stable/reference/generated/numpy.matrix.html\n",
      "  warnings.warn(\n"
     ]
    },
    {
     "data": {
      "text/html": [
       "<div>\n",
       "<style scoped>\n",
       "    .dataframe tbody tr th:only-of-type {\n",
       "        vertical-align: middle;\n",
       "    }\n",
       "\n",
       "    .dataframe tbody tr th {\n",
       "        vertical-align: top;\n",
       "    }\n",
       "\n",
       "    .dataframe thead th {\n",
       "        text-align: right;\n",
       "    }\n",
       "</style>\n",
       "<table border=\"1\" class=\"dataframe\">\n",
       "  <thead>\n",
       "    <tr style=\"text-align: right;\">\n",
       "      <th></th>\n",
       "      <th>x1</th>\n",
       "      <th>x2</th>\n",
       "      <th>label</th>\n",
       "    </tr>\n",
       "  </thead>\n",
       "  <tbody>\n",
       "    <tr>\n",
       "      <th>0</th>\n",
       "      <td>0.178685</td>\n",
       "      <td>0.138158</td>\n",
       "      <td>powerpc</td>\n",
       "    </tr>\n",
       "    <tr>\n",
       "      <th>1</th>\n",
       "      <td>-0.064736</td>\n",
       "      <td>0.072488</td>\n",
       "      <td>x86_64</td>\n",
       "    </tr>\n",
       "    <tr>\n",
       "      <th>2</th>\n",
       "      <td>0.044845</td>\n",
       "      <td>0.057283</td>\n",
       "      <td>m68k</td>\n",
       "    </tr>\n",
       "    <tr>\n",
       "      <th>3</th>\n",
       "      <td>-0.096888</td>\n",
       "      <td>0.093034</td>\n",
       "      <td>sh4</td>\n",
       "    </tr>\n",
       "    <tr>\n",
       "      <th>4</th>\n",
       "      <td>-0.113113</td>\n",
       "      <td>0.202208</td>\n",
       "      <td>s390</td>\n",
       "    </tr>\n",
       "  </tbody>\n",
       "</table>\n",
       "</div>"
      ],
      "text/plain": [
       "         x1        x2    label\n",
       "0  0.178685  0.138158  powerpc\n",
       "1 -0.064736  0.072488   x86_64\n",
       "2  0.044845  0.057283     m68k\n",
       "3 -0.096888  0.093034      sh4\n",
       "4 -0.113113  0.202208     s390"
      ]
     },
     "execution_count": 22,
     "metadata": {},
     "output_type": "execute_result"
    }
   ],
   "source": [
    "X_pca2 = PCA(n_components=2).fit_transform(XT_train.todense())\n",
    "pca2_data = pd.DataFrame(X_pca2, columns=['x1', 'x2'])\n",
    "pca2_data['label'] = y_train\n",
    "pca2_data.head()"
   ]
  },
  {
   "cell_type": "code",
   "execution_count": 19,
   "id": "aaa95257",
   "metadata": {},
   "outputs": [
    {
     "name": "stderr",
     "output_type": "stream",
     "text": [
      "/home/jacob/projects/binary-isa-classifier/env/lib/python3.10/site-packages/sklearn/utils/validation.py:593: FutureWarning: np.matrix usage is deprecated in 1.0 and will raise a TypeError in 1.2. Please convert to a numpy array with np.asarray. For more information see: https://numpy.org/doc/stable/reference/generated/numpy.matrix.html\n",
      "  warnings.warn(\n"
     ]
    },
    {
     "data": {
      "text/html": [
       "<div>\n",
       "<style scoped>\n",
       "    .dataframe tbody tr th:only-of-type {\n",
       "        vertical-align: middle;\n",
       "    }\n",
       "\n",
       "    .dataframe tbody tr th {\n",
       "        vertical-align: top;\n",
       "    }\n",
       "\n",
       "    .dataframe thead th {\n",
       "        text-align: right;\n",
       "    }\n",
       "</style>\n",
       "<table border=\"1\" class=\"dataframe\">\n",
       "  <thead>\n",
       "    <tr style=\"text-align: right;\">\n",
       "      <th></th>\n",
       "      <th>x1</th>\n",
       "      <th>x2</th>\n",
       "      <th>x3</th>\n",
       "      <th>label</th>\n",
       "    </tr>\n",
       "  </thead>\n",
       "  <tbody>\n",
       "    <tr>\n",
       "      <th>0</th>\n",
       "      <td>0.178685</td>\n",
       "      <td>0.138200</td>\n",
       "      <td>-0.236313</td>\n",
       "      <td>powerpc</td>\n",
       "    </tr>\n",
       "    <tr>\n",
       "      <th>1</th>\n",
       "      <td>-0.064735</td>\n",
       "      <td>0.072440</td>\n",
       "      <td>-0.024646</td>\n",
       "      <td>x86_64</td>\n",
       "    </tr>\n",
       "    <tr>\n",
       "      <th>2</th>\n",
       "      <td>0.044854</td>\n",
       "      <td>0.057371</td>\n",
       "      <td>-0.034468</td>\n",
       "      <td>m68k</td>\n",
       "    </tr>\n",
       "    <tr>\n",
       "      <th>3</th>\n",
       "      <td>-0.096886</td>\n",
       "      <td>0.093025</td>\n",
       "      <td>0.132841</td>\n",
       "      <td>sh4</td>\n",
       "    </tr>\n",
       "    <tr>\n",
       "      <th>4</th>\n",
       "      <td>-0.113112</td>\n",
       "      <td>0.202196</td>\n",
       "      <td>0.011315</td>\n",
       "      <td>s390</td>\n",
       "    </tr>\n",
       "  </tbody>\n",
       "</table>\n",
       "</div>"
      ],
      "text/plain": [
       "         x1        x2        x3    label\n",
       "0  0.178685  0.138200 -0.236313  powerpc\n",
       "1 -0.064735  0.072440 -0.024646   x86_64\n",
       "2  0.044854  0.057371 -0.034468     m68k\n",
       "3 -0.096886  0.093025  0.132841      sh4\n",
       "4 -0.113112  0.202196  0.011315     s390"
      ]
     },
     "execution_count": 19,
     "metadata": {},
     "output_type": "execute_result"
    }
   ],
   "source": [
    "X_pca3 = PCA(n_components=3).fit_transform(XT_train.todense())\n",
    "pca3_data = pd.DataFrame(X_pca3, columns=['x1', 'x2', 'x3'])\n",
    "pca3_data['label'] = y_train\n",
    "pca3_data.head()"
   ]
  },
  {
   "cell_type": "code",
   "execution_count": 23,
   "id": "6a9b6e7f",
   "metadata": {},
   "outputs": [
    {
     "data": {
      "text/plain": [
       "<matplotlib.collections.PathCollection at 0x7f15f68c5000>"
      ]
     },
     "execution_count": 23,
     "metadata": {},
     "output_type": "execute_result"
    },
    {
     "data": {
      "image/png": "[encoded data removed]",
      "text/plain": [
       "<Figure size 432x288 with 1 Axes>"
      ]
     },
     "metadata": {
      "needs_background": "light"
     },
     "output_type": "display_data"
    }
   ],
   "source": [
    "colors = {\n",
    "    'alphaev56': 'blue', \n",
    "    'arm': 'green', \n",
    "    'avr': 'red', \n",
    "    'm68k': 'black',\n",
    "    'mips': 'purple',\n",
    "    'mipsel': 'orange',\n",
    "    'powerpc': 'pink',\n",
    "    's390': 'gray',\n",
    "    'sh4': 'olive', \n",
    "    'sparc': 'cyan', \n",
    "    'x86_64': 'salmon', \n",
    "    'xtensa': 'darkmagenta'\n",
    "}\n",
    "plt.scatter(pca2_data['x1'], pca2_data['x2'], c=pca2_data['label'].map(colors))"
   ]
  },
  {
   "cell_type": "markdown",
   "id": "7bb25864",
   "metadata": {},
   "source": [
    "## Attempt 1:  Naive Bayes Classifier\n",
    "\n",
    "This model sucks..."
   ]
  },
  {
   "cell_type": "code",
   "execution_count": 8,
   "id": "c9e3e3cf",
   "metadata": {},
   "outputs": [
    {
     "name": "stderr",
     "output_type": "stream",
     "text": [
      "/home/jacob/projects/binary-isa-classifier/env/lib/python3.10/site-packages/sklearn/utils/validation.py:593: FutureWarning: np.matrix usage is deprecated in 1.0 and will raise a TypeError in 1.2. Please convert to a numpy array with np.asarray. For more information see: https://numpy.org/doc/stable/reference/generated/numpy.matrix.html\n",
      "  warnings.warn(\n",
      "/home/jacob/projects/binary-isa-classifier/env/lib/python3.10/site-packages/sklearn/utils/validation.py:593: FutureWarning: np.matrix usage is deprecated in 1.0 and will raise a TypeError in 1.2. Please convert to a numpy array with np.asarray. For more information see: https://numpy.org/doc/stable/reference/generated/numpy.matrix.html\n",
      "  warnings.warn(\n"
     ]
    },
    {
     "name": "stdout",
     "output_type": "stream",
     "text": [
      "0.08766686590954373\n"
     ]
    }
   ],
   "source": [
    "NBC = CategoricalNB().fit(XT_train.todense(), y_train)\n",
    "print(NBC.score(XT_test.todense(), y_test))"
   ]
  },
  {
   "cell_type": "markdown",
   "id": "8e59e035",
   "metadata": {},
   "source": [
    "## Attempt 2: Linear SVC\n",
    "\n",
    "Great results!"
   ]
  },
  {
   "cell_type": "code",
   "execution_count": 24,
   "id": "f6168e84",
   "metadata": {},
   "outputs": [
    {
     "name": "stdout",
     "output_type": "stream",
     "text": [
      "0.9996413628212791\n"
     ]
    }
   ],
   "source": [
    "lSVC = LinearSVC(penalty='l2', tol=1e-04).fit(XT_train, y_train)\n",
    "print(lSVC.score(XT_test, y_test))"
   ]
  },
  {
   "cell_type": "markdown",
   "id": "b298a161",
   "metadata": {},
   "source": [
    "## Attempt 3: Linear SGD"
   ]
  },
  {
   "cell_type": "code",
   "execution_count": 31,
   "id": "873c7bfb",
   "metadata": {},
   "outputs": [
    {
     "name": "stderr",
     "output_type": "stream",
     "text": [
      "/home/jacob/projects/binary-isa-classifier/env/lib/python3.10/site-packages/sklearn/linear_model/_stochastic_gradient.py:696: ConvergenceWarning: Maximum number of iteration reached before convergence. Consider increasing max_iter to improve the fit.\n",
      "  warnings.warn(\n",
      "/home/jacob/projects/binary-isa-classifier/env/lib/python3.10/site-packages/sklearn/linear_model/_stochastic_gradient.py:696: ConvergenceWarning: Maximum number of iteration reached before convergence. Consider increasing max_iter to improve the fit.\n",
      "  warnings.warn(\n",
      "/home/jacob/projects/binary-isa-classifier/env/lib/python3.10/site-packages/sklearn/linear_model/_stochastic_gradient.py:696: ConvergenceWarning: Maximum number of iteration reached before convergence. Consider increasing max_iter to improve the fit.\n",
      "  warnings.warn(\n"
     ]
    }
   ],
   "source": [
    "\n",
    "loss_types = [None, \"log\", \"modified_huber\", \"squared_hinge\", \"perceptron\"]\n",
    "penalty_types = ['l2', 'l1', 'elasticnet']\n",
    "\n",
    "N = len(loss_types)\n",
    "M = len(penalty_types)\n",
    "\n",
    "models = [[None for _ in range(M)] for _ in range(N)]\n",
    "for idx, loss in enumerate(loss_types):\n",
    "    for jdx, pen in enumerate(penalty_types):\n",
    "        params = {\n",
    "            \"tol\": 1e-06\n",
    "        }\n",
    "        if loss:\n",
    "            params[\"loss\"] = loss\n",
    "        params[\"penalty\"] = pen\n",
    "        try:\n",
    "            models[idx][jdx] = SGDClassifier(**params).fit(XT_train, y_train)\n",
    "        except:\n",
    "            models[idx][jdx] = None"
   ]
  },
  {
   "cell_type": "code",
   "execution_count": null,
   "id": "48107d81",
   "metadata": {},
   "outputs": [],
   "source": [
    "for i in range(N):\n",
    "    for j in range(M):\n",
    "        print(f\"loss={loss_types[i]}, penalty={penalty_types[j]}:\\t{models[i][j].score(XT_test, y_test) if models[i][j] else np.nan}\")"
   ]
  },
  {
   "cell_type": "markdown",
   "id": "80baaf72",
   "metadata": {},
   "source": [
    "Winning linear SGD models (loss, penalty):\n",
    "- perceptron / l2  (0.9994)\n",
    "- modified_huber / l2  (0.999)"
   ]
  },
  {
   "cell_type": "markdown",
   "id": "c0e1d2e2",
   "metadata": {},
   "source": [
    "## Attempt 4: SVC\n",
    "Except now we dont use the linear kernel"
   ]
  },
  {
   "cell_type": "code",
   "execution_count": 10,
   "id": "988648c0",
   "metadata": {},
   "outputs": [
    {
     "name": "stdout",
     "output_type": "stream",
     "text": [
      "kernel=rbf:\t\t0.999721059972106\n",
      "kernel=poly:\t\t0.9996812113966925\n",
      "kernel=sigmoid:\t\t0.9990436341900777\n"
     ]
    },
    {
     "ename": "TypeError",
     "evalue": "Sparse precomputed kernels are not supported.",
     "output_type": "error",
     "traceback": [
      "\u001b[0;31m---------------------------------------------------------------------------\u001b[0m",
      "\u001b[0;31mTypeError\u001b[0m                                 Traceback (most recent call last)",
      "\u001b[1;32m/home/jacob/projects/binary-isa-classifier/Untitled.ipynb Cell 19'\u001b[0m in \u001b[0;36m<cell line: 4>\u001b[0;34m()\u001b[0m\n\u001b[1;32m      <a href='vscode-notebook-cell:/home/jacob/projects/binary-isa-classifier/Untitled.ipynb#ch0000038?line=1'>2</a>\u001b[0m kernels \u001b[39m=\u001b[39m [\u001b[39m'\u001b[39m\u001b[39mrbf\u001b[39m\u001b[39m'\u001b[39m, \u001b[39m'\u001b[39m\u001b[39mpoly\u001b[39m\u001b[39m'\u001b[39m, \u001b[39m'\u001b[39m\u001b[39msigmoid\u001b[39m\u001b[39m'\u001b[39m, \u001b[39m'\u001b[39m\u001b[39mprecomputed\u001b[39m\u001b[39m'\u001b[39m]\n\u001b[1;32m      <a href='vscode-notebook-cell:/home/jacob/projects/binary-isa-classifier/Untitled.ipynb#ch0000038?line=3'>4</a>\u001b[0m \u001b[39mfor\u001b[39;00m kernel_type \u001b[39min\u001b[39;00m kernels:\n\u001b[0;32m----> <a href='vscode-notebook-cell:/home/jacob/projects/binary-isa-classifier/Untitled.ipynb#ch0000038?line=4'>5</a>\u001b[0m     model \u001b[39m=\u001b[39m SVC(kernel\u001b[39m=\u001b[39;49mkernel_type)\u001b[39m.\u001b[39;49mfit(XT_train, y_train)\n\u001b[1;32m      <a href='vscode-notebook-cell:/home/jacob/projects/binary-isa-classifier/Untitled.ipynb#ch0000038?line=5'>6</a>\u001b[0m     \u001b[39mprint\u001b[39m(\u001b[39mf\u001b[39m\u001b[39m\"\u001b[39m\u001b[39mkernel=\u001b[39m\u001b[39m{\u001b[39;00mkernel_type\u001b[39m}\u001b[39;00m\u001b[39m:\u001b[39m\u001b[39m\\t\u001b[39;00m\u001b[39m\\t\u001b[39;00m\u001b[39m{\u001b[39;00mmodel\u001b[39m.\u001b[39mscore(XT_test, y_test) \u001b[39mif\u001b[39;00m model \u001b[39melse\u001b[39;00m np\u001b[39m.\u001b[39mnan\u001b[39m}\u001b[39;00m\u001b[39m\"\u001b[39m)\n",
      "File \u001b[0;32m~/projects/binary-isa-classifier/env/lib/python3.10/site-packages/sklearn/svm/_base.py:177\u001b[0m, in \u001b[0;36mBaseLibSVM.fit\u001b[0;34m(self, X, y, sample_weight)\u001b[0m\n\u001b[1;32m    <a href='file:///home/jacob/projects/binary-isa-classifier/env/lib/python3.10/site-packages/sklearn/svm/_base.py?line=174'>175</a>\u001b[0m sparse \u001b[39m=\u001b[39m sp\u001b[39m.\u001b[39misspmatrix(X)\n\u001b[1;32m    <a href='file:///home/jacob/projects/binary-isa-classifier/env/lib/python3.10/site-packages/sklearn/svm/_base.py?line=175'>176</a>\u001b[0m \u001b[39mif\u001b[39;00m sparse \u001b[39mand\u001b[39;00m \u001b[39mself\u001b[39m\u001b[39m.\u001b[39mkernel \u001b[39m==\u001b[39m \u001b[39m\"\u001b[39m\u001b[39mprecomputed\u001b[39m\u001b[39m\"\u001b[39m:\n\u001b[0;32m--> <a href='file:///home/jacob/projects/binary-isa-classifier/env/lib/python3.10/site-packages/sklearn/svm/_base.py?line=176'>177</a>\u001b[0m     \u001b[39mraise\u001b[39;00m \u001b[39mTypeError\u001b[39;00m(\u001b[39m\"\u001b[39m\u001b[39mSparse precomputed kernels are not supported.\u001b[39m\u001b[39m\"\u001b[39m)\n\u001b[1;32m    <a href='file:///home/jacob/projects/binary-isa-classifier/env/lib/python3.10/site-packages/sklearn/svm/_base.py?line=177'>178</a>\u001b[0m \u001b[39mself\u001b[39m\u001b[39m.\u001b[39m_sparse \u001b[39m=\u001b[39m sparse \u001b[39mand\u001b[39;00m \u001b[39mnot\u001b[39;00m callable(\u001b[39mself\u001b[39m\u001b[39m.\u001b[39mkernel)\n\u001b[1;32m    <a href='file:///home/jacob/projects/binary-isa-classifier/env/lib/python3.10/site-packages/sklearn/svm/_base.py?line=179'>180</a>\u001b[0m \u001b[39mif\u001b[39;00m \u001b[39mhasattr\u001b[39m(\u001b[39mself\u001b[39m, \u001b[39m\"\u001b[39m\u001b[39mdecision_function_shape\u001b[39m\u001b[39m\"\u001b[39m):\n",
      "\u001b[0;31mTypeError\u001b[0m: Sparse precomputed kernels are not supported."
     ]
    }
   ],
   "source": [
    "# default kernel is RBF\n",
    "kernels = ['rbf', 'poly', 'sigmoid']\n",
    "\n",
    "for kernel_type in kernels:\n",
    "    model = SVC(kernel=kernel_type).fit(XT_train, y_train)\n",
    "    print(f\"kernel={kernel_type}:\\t\\t{model.score(XT_test, y_test) if model else np.nan}\")"
   ]
  },
  {
   "cell_type": "markdown",
   "id": "445b4cb7",
   "metadata": {},
   "source": [
    "Best SVC kernels: \n",
    "- rbf\n",
    "- linear"
   ]
  },
  {
   "cell_type": "code",
   "execution_count": 18,
   "id": "49797c46",
   "metadata": {},
   "outputs": [
    {
     "data": {
      "text/plain": [
       "['./models/mhuber_sgd']"
      ]
     },
     "execution_count": 18,
     "metadata": {},
     "output_type": "execute_result"
    }
   ],
   "source": [
    "lSVC = LinearSVC(penalty='l2', tol=1e-04).fit(XT_train, y_train)\n",
    "rbfSVC = SVC(kernel='rbf').fit(XT_train, y_train)\n",
    "perceptron_sgd = SGDClassifier(loss='perceptron', tol=1e-06).fit(XT_train, y_train)\n",
    "mhuber_sgd = SGDClassifier(loss='modified_huber', tol=1e-06).fit(XT_train, y_train)\n",
    "\n",
    "joblib.dump(lSVC, './models/linearSVC')\n",
    "joblib.dump(rbfSVC, './models/rbfSVC')\n",
    "joblib.dump(perceptron_sgd, './models/perceptron_sgd')\n",
    "joblib.dump(mhuber_sgd, './models/mhuber_sgd')"
   ]
  }
 ],
 "metadata": {
  "kernelspec": {
   "display_name": "Python 3 (ipykernel)",
   "language": "python",
   "name": "python3"
  },
  "language_info": {
   "codemirror_mode": {
    "name": "ipython",
    "version": 3
   },
   "file_extension": ".py",
   "mimetype": "text/x-python",
   "name": "python",
   "nbconvert_exporter": "python",
   "pygments_lexer": "ipython3",
   "version": "3.10.2"
  }
 },
 "nbformat": 4,
 "nbformat_minor": 5
}
